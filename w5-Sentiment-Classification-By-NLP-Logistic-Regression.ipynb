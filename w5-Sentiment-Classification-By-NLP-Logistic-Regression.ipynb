{
  "nbformat": 4,
  "nbformat_minor": 0,
  "metadata": {
    "colab": {
      "name": "Movie-Review-CSV.ipynb",
      "provenance": [],
      "collapsed_sections": [],
      "mount_file_id": "10dyhaWHKbp3Okgdn5vEcAGIFAKD30R8B",
      "authorship_tag": "ABX9TyOORXyVqdLVbIS9KD5xWdbT",
      "include_colab_link": true
    },
    "kernelspec": {
      "name": "python3",
      "display_name": "Python 3"
    }
  },
  "cells": [
    {
      "cell_type": "markdown",
      "metadata": {
        "id": "view-in-github",
        "colab_type": "text"
      },
      "source": [
        "<a href=\"https://colab.research.google.com/github/natuan310/w5-Sentiment-Classification-By-NLP-Logistic-Regression/blob/master/w5-Sentiment-Classification-By-NLP-Logistic-Regression.ipynb\" target=\"_parent\"><img src=\"https://colab.research.google.com/assets/colab-badge.svg\" alt=\"Open In Colab\"/></a>"
      ]
    },
    {
      "cell_type": "markdown",
      "metadata": {
        "id": "fQzD3LMpKmt1",
        "colab_type": "text"
      },
      "source": [
        "# Movie Review's Sentiment Classification by Logistic Regression\n",
        "\n"
      ]
    },
    {
      "cell_type": "markdown",
      "metadata": {
        "id": "LRnRtPK4LQvi",
        "colab_type": "text"
      },
      "source": [
        "---\n",
        "## 1. Prepare the data\n"
      ]
    },
    {
      "cell_type": "code",
      "metadata": {
        "id": "9BPp34KJq-hc",
        "colab_type": "code",
        "outputId": "9932d1de-418c-474e-87d4-2d827522bd19",
        "colab": {
          "base_uri": "https://localhost:8080/",
          "height": 35
        }
      },
      "source": [
        "from google.colab import drive\n",
        "drive.mount('/ggdrive', force_remount= True)"
      ],
      "execution_count": 101,
      "outputs": [
        {
          "output_type": "stream",
          "text": [
            "Mounted at /ggdrive\n"
          ],
          "name": "stdout"
        }
      ]
    },
    {
      "cell_type": "code",
      "metadata": {
        "id": "9Ju-aHK-qRUv",
        "colab_type": "code",
        "colab": {}
      },
      "source": [
        "import numpy as np\n",
        "import pandas as pd\n",
        "from matplotlib import pyplot as plt"
      ],
      "execution_count": 0,
      "outputs": []
    },
    {
      "cell_type": "code",
      "metadata": {
        "id": "fWMz7oT-rMEB",
        "colab_type": "code",
        "colab": {}
      },
      "source": [
        "movie = pd.read_csv('/ggdrive/My Drive/FTMLE - Tonga/Data/movie_review.csv', sep='\\t')"
      ],
      "execution_count": 0,
      "outputs": []
    },
    {
      "cell_type": "code",
      "metadata": {
        "id": "dIBhjpoGCLBe",
        "colab_type": "code",
        "outputId": "8b6680fe-1357-4039-c872-3f2ae68e7882",
        "colab": {
          "base_uri": "https://localhost:8080/",
          "height": 198
        }
      },
      "source": [
        "movie.head()"
      ],
      "execution_count": 104,
      "outputs": [
        {
          "output_type": "execute_result",
          "data": {
            "text/html": [
              "<div>\n",
              "<style scoped>\n",
              "    .dataframe tbody tr th:only-of-type {\n",
              "        vertical-align: middle;\n",
              "    }\n",
              "\n",
              "    .dataframe tbody tr th {\n",
              "        vertical-align: top;\n",
              "    }\n",
              "\n",
              "    .dataframe thead th {\n",
              "        text-align: right;\n",
              "    }\n",
              "</style>\n",
              "<table border=\"1\" class=\"dataframe\">\n",
              "  <thead>\n",
              "    <tr style=\"text-align: right;\">\n",
              "      <th></th>\n",
              "      <th>id</th>\n",
              "      <th>review</th>\n",
              "      <th>sentiment</th>\n",
              "    </tr>\n",
              "  </thead>\n",
              "  <tbody>\n",
              "    <tr>\n",
              "      <th>0</th>\n",
              "      <td>5814_8</td>\n",
              "      <td>With all this stuff going down at the moment w...</td>\n",
              "      <td>1</td>\n",
              "    </tr>\n",
              "    <tr>\n",
              "      <th>1</th>\n",
              "      <td>2381_9</td>\n",
              "      <td>\\The Classic War of the Worlds\\\" by Timothy Hi...</td>\n",
              "      <td>1</td>\n",
              "    </tr>\n",
              "    <tr>\n",
              "      <th>2</th>\n",
              "      <td>7759_3</td>\n",
              "      <td>The film starts with a manager (Nicholas Bell)...</td>\n",
              "      <td>0</td>\n",
              "    </tr>\n",
              "    <tr>\n",
              "      <th>3</th>\n",
              "      <td>3630_4</td>\n",
              "      <td>It must be assumed that those who praised this...</td>\n",
              "      <td>0</td>\n",
              "    </tr>\n",
              "    <tr>\n",
              "      <th>4</th>\n",
              "      <td>9495_8</td>\n",
              "      <td>Superbly trashy and wondrously unpretentious 8...</td>\n",
              "      <td>1</td>\n",
              "    </tr>\n",
              "  </tbody>\n",
              "</table>\n",
              "</div>"
            ],
            "text/plain": [
              "       id                                             review  sentiment\n",
              "0  5814_8  With all this stuff going down at the moment w...          1\n",
              "1  2381_9  \\The Classic War of the Worlds\\\" by Timothy Hi...          1\n",
              "2  7759_3  The film starts with a manager (Nicholas Bell)...          0\n",
              "3  3630_4  It must be assumed that those who praised this...          0\n",
              "4  9495_8  Superbly trashy and wondrously unpretentious 8...          1"
            ]
          },
          "metadata": {
            "tags": []
          },
          "execution_count": 104
        }
      ]
    },
    {
      "cell_type": "code",
      "metadata": {
        "id": "kDoPgP2GCQH8",
        "colab_type": "code",
        "outputId": "7dee00a2-ceca-4959-9c7e-94737cb66323",
        "colab": {
          "base_uri": "https://localhost:8080/",
          "height": 199
        }
      },
      "source": [
        "movie.info()"
      ],
      "execution_count": 105,
      "outputs": [
        {
          "output_type": "stream",
          "text": [
            "<class 'pandas.core.frame.DataFrame'>\n",
            "RangeIndex: 22500 entries, 0 to 22499\n",
            "Data columns (total 3 columns):\n",
            " #   Column     Non-Null Count  Dtype \n",
            "---  ------     --------------  ----- \n",
            " 0   id         22500 non-null  object\n",
            " 1   review     22500 non-null  object\n",
            " 2   sentiment  22500 non-null  int64 \n",
            "dtypes: int64(1), object(2)\n",
            "memory usage: 527.5+ KB\n"
          ],
          "name": "stdout"
        }
      ]
    },
    {
      "cell_type": "code",
      "metadata": {
        "id": "lUX0_-ZKCV6T",
        "colab_type": "code",
        "outputId": "d7b3c115-9ae0-42e5-bfc4-cdf0e2d85f4a",
        "colab": {
          "base_uri": "https://localhost:8080/",
          "height": 407
        }
      },
      "source": [
        "sentiment = movie[['review', 'sentiment']]\n",
        "sentiment"
      ],
      "execution_count": 106,
      "outputs": [
        {
          "output_type": "execute_result",
          "data": {
            "text/html": [
              "<div>\n",
              "<style scoped>\n",
              "    .dataframe tbody tr th:only-of-type {\n",
              "        vertical-align: middle;\n",
              "    }\n",
              "\n",
              "    .dataframe tbody tr th {\n",
              "        vertical-align: top;\n",
              "    }\n",
              "\n",
              "    .dataframe thead th {\n",
              "        text-align: right;\n",
              "    }\n",
              "</style>\n",
              "<table border=\"1\" class=\"dataframe\">\n",
              "  <thead>\n",
              "    <tr style=\"text-align: right;\">\n",
              "      <th></th>\n",
              "      <th>review</th>\n",
              "      <th>sentiment</th>\n",
              "    </tr>\n",
              "  </thead>\n",
              "  <tbody>\n",
              "    <tr>\n",
              "      <th>0</th>\n",
              "      <td>With all this stuff going down at the moment w...</td>\n",
              "      <td>1</td>\n",
              "    </tr>\n",
              "    <tr>\n",
              "      <th>1</th>\n",
              "      <td>\\The Classic War of the Worlds\\\" by Timothy Hi...</td>\n",
              "      <td>1</td>\n",
              "    </tr>\n",
              "    <tr>\n",
              "      <th>2</th>\n",
              "      <td>The film starts with a manager (Nicholas Bell)...</td>\n",
              "      <td>0</td>\n",
              "    </tr>\n",
              "    <tr>\n",
              "      <th>3</th>\n",
              "      <td>It must be assumed that those who praised this...</td>\n",
              "      <td>0</td>\n",
              "    </tr>\n",
              "    <tr>\n",
              "      <th>4</th>\n",
              "      <td>Superbly trashy and wondrously unpretentious 8...</td>\n",
              "      <td>1</td>\n",
              "    </tr>\n",
              "    <tr>\n",
              "      <th>...</th>\n",
              "      <td>...</td>\n",
              "      <td>...</td>\n",
              "    </tr>\n",
              "    <tr>\n",
              "      <th>22495</th>\n",
              "      <td>It seems like more consideration has gone into...</td>\n",
              "      <td>0</td>\n",
              "    </tr>\n",
              "    <tr>\n",
              "      <th>22496</th>\n",
              "      <td>I don't believe they made this film. Completel...</td>\n",
              "      <td>0</td>\n",
              "    </tr>\n",
              "    <tr>\n",
              "      <th>22497</th>\n",
              "      <td>Guy is a loser. Can't get girls, needs to buil...</td>\n",
              "      <td>0</td>\n",
              "    </tr>\n",
              "    <tr>\n",
              "      <th>22498</th>\n",
              "      <td>This 30 minute documentary BuÃ±uel made in the...</td>\n",
              "      <td>0</td>\n",
              "    </tr>\n",
              "    <tr>\n",
              "      <th>22499</th>\n",
              "      <td>I saw this movie as a child and it broke my he...</td>\n",
              "      <td>1</td>\n",
              "    </tr>\n",
              "  </tbody>\n",
              "</table>\n",
              "<p>22500 rows × 2 columns</p>\n",
              "</div>"
            ],
            "text/plain": [
              "                                                  review  sentiment\n",
              "0      With all this stuff going down at the moment w...          1\n",
              "1      \\The Classic War of the Worlds\\\" by Timothy Hi...          1\n",
              "2      The film starts with a manager (Nicholas Bell)...          0\n",
              "3      It must be assumed that those who praised this...          0\n",
              "4      Superbly trashy and wondrously unpretentious 8...          1\n",
              "...                                                  ...        ...\n",
              "22495  It seems like more consideration has gone into...          0\n",
              "22496  I don't believe they made this film. Completel...          0\n",
              "22497  Guy is a loser. Can't get girls, needs to buil...          0\n",
              "22498  This 30 minute documentary BuÃ±uel made in the...          0\n",
              "22499  I saw this movie as a child and it broke my he...          1\n",
              "\n",
              "[22500 rows x 2 columns]"
            ]
          },
          "metadata": {
            "tags": []
          },
          "execution_count": 106
        }
      ]
    },
    {
      "cell_type": "markdown",
      "metadata": {
        "id": "3qmn8fcWLg7_",
        "colab_type": "text"
      },
      "source": [
        "---\n",
        "## 2. Clean our data\n",
        "\n"
      ]
    },
    {
      "cell_type": "code",
      "metadata": {
        "id": "ejqiVD1-CfD6",
        "colab_type": "code",
        "outputId": "af0ee284-1e64-41b8-afc7-77f83a876d56",
        "colab": {
          "base_uri": "https://localhost:8080/",
          "height": 72
        }
      },
      "source": [
        "sentiment.nunique()"
      ],
      "execution_count": 107,
      "outputs": [
        {
          "output_type": "execute_result",
          "data": {
            "text/plain": [
              "review       22425\n",
              "sentiment        2\n",
              "dtype: int64"
            ]
          },
          "metadata": {
            "tags": []
          },
          "execution_count": 107
        }
      ]
    },
    {
      "cell_type": "code",
      "metadata": {
        "id": "Yw_p3CurCkph",
        "colab_type": "code",
        "outputId": "1cf3d7ae-f75b-49c6-f73f-db10f1cffa79",
        "colab": {
          "base_uri": "https://localhost:8080/",
          "height": 108
        }
      },
      "source": [
        "sentiment.drop_duplicates(inplace= True)"
      ],
      "execution_count": 108,
      "outputs": [
        {
          "output_type": "stream",
          "text": [
            "/usr/local/lib/python3.6/dist-packages/ipykernel_launcher.py:1: SettingWithCopyWarning: \n",
            "A value is trying to be set on a copy of a slice from a DataFrame\n",
            "\n",
            "See the caveats in the documentation: https://pandas.pydata.org/pandas-docs/stable/user_guide/indexing.html#returning-a-view-versus-a-copy\n",
            "  \"\"\"Entry point for launching an IPython kernel.\n"
          ],
          "name": "stderr"
        }
      ]
    },
    {
      "cell_type": "code",
      "metadata": {
        "id": "osboT7_5CorI",
        "colab_type": "code",
        "outputId": "fa7f4cbd-e9c3-4e28-d429-f1eea2e8f358",
        "colab": {
          "base_uri": "https://localhost:8080/",
          "height": 181
        }
      },
      "source": [
        "sentiment.info()"
      ],
      "execution_count": 109,
      "outputs": [
        {
          "output_type": "stream",
          "text": [
            "<class 'pandas.core.frame.DataFrame'>\n",
            "Int64Index: 22425 entries, 0 to 22499\n",
            "Data columns (total 2 columns):\n",
            " #   Column     Non-Null Count  Dtype \n",
            "---  ------     --------------  ----- \n",
            " 0   review     22425 non-null  object\n",
            " 1   sentiment  22425 non-null  int64 \n",
            "dtypes: int64(1), object(1)\n",
            "memory usage: 525.6+ KB\n"
          ],
          "name": "stdout"
        }
      ]
    },
    {
      "cell_type": "code",
      "metadata": {
        "id": "MpqNGPvUCwxH",
        "colab_type": "code",
        "outputId": "0b551470-bcc5-45f5-e4e2-ad896c601848",
        "colab": {
          "base_uri": "https://localhost:8080/",
          "height": 48
        }
      },
      "source": [
        "sentiment[sentiment['review'].isnull()]"
      ],
      "execution_count": 110,
      "outputs": [
        {
          "output_type": "execute_result",
          "data": {
            "text/html": [
              "<div>\n",
              "<style scoped>\n",
              "    .dataframe tbody tr th:only-of-type {\n",
              "        vertical-align: middle;\n",
              "    }\n",
              "\n",
              "    .dataframe tbody tr th {\n",
              "        vertical-align: top;\n",
              "    }\n",
              "\n",
              "    .dataframe thead th {\n",
              "        text-align: right;\n",
              "    }\n",
              "</style>\n",
              "<table border=\"1\" class=\"dataframe\">\n",
              "  <thead>\n",
              "    <tr style=\"text-align: right;\">\n",
              "      <th></th>\n",
              "      <th>review</th>\n",
              "      <th>sentiment</th>\n",
              "    </tr>\n",
              "  </thead>\n",
              "  <tbody>\n",
              "  </tbody>\n",
              "</table>\n",
              "</div>"
            ],
            "text/plain": [
              "Empty DataFrame\n",
              "Columns: [review, sentiment]\n",
              "Index: []"
            ]
          },
          "metadata": {
            "tags": []
          },
          "execution_count": 110
        }
      ]
    },
    {
      "cell_type": "code",
      "metadata": {
        "id": "YfZq3KieC2fG",
        "colab_type": "code",
        "outputId": "7e47ab50-ddb3-4bdd-9d24-d7bba360d652",
        "colab": {
          "base_uri": "https://localhost:8080/",
          "height": 48
        }
      },
      "source": [
        "sentiment[sentiment['sentiment'].isnull()]"
      ],
      "execution_count": 111,
      "outputs": [
        {
          "output_type": "execute_result",
          "data": {
            "text/html": [
              "<div>\n",
              "<style scoped>\n",
              "    .dataframe tbody tr th:only-of-type {\n",
              "        vertical-align: middle;\n",
              "    }\n",
              "\n",
              "    .dataframe tbody tr th {\n",
              "        vertical-align: top;\n",
              "    }\n",
              "\n",
              "    .dataframe thead th {\n",
              "        text-align: right;\n",
              "    }\n",
              "</style>\n",
              "<table border=\"1\" class=\"dataframe\">\n",
              "  <thead>\n",
              "    <tr style=\"text-align: right;\">\n",
              "      <th></th>\n",
              "      <th>review</th>\n",
              "      <th>sentiment</th>\n",
              "    </tr>\n",
              "  </thead>\n",
              "  <tbody>\n",
              "  </tbody>\n",
              "</table>\n",
              "</div>"
            ],
            "text/plain": [
              "Empty DataFrame\n",
              "Columns: [review, sentiment]\n",
              "Index: []"
            ]
          },
          "metadata": {
            "tags": []
          },
          "execution_count": 111
        }
      ]
    },
    {
      "cell_type": "markdown",
      "metadata": {
        "id": "g6-qH7U0Lq1l",
        "colab_type": "text"
      },
      "source": [
        "---\n",
        "#### Stopwords\n"
      ]
    },
    {
      "cell_type": "markdown",
      "metadata": {
        "id": "jnQ-D57Kjd7n",
        "colab_type": "text"
      },
      "source": [
        "Stop words are extremely common words that would be of little value in our analysis are often excluded from the vocabulary entirely. Some common examples are determiners like the, a, an, another, but your list of stop words (or stop list) depends on the context of the problem you're working on."
      ]
    },
    {
      "cell_type": "code",
      "metadata": {
        "id": "qHwAHFy2MJrH",
        "colab_type": "code",
        "colab": {}
      },
      "source": [
        "from nltk.corpus import stopwords\n",
        "stop = stopwords.words('english')"
      ],
      "execution_count": 0,
      "outputs": []
    },
    {
      "cell_type": "markdown",
      "metadata": {
        "id": "CdoN9lkJLth2",
        "colab_type": "text"
      },
      "source": [
        "---\n",
        "#### Preprocessor\n"
      ]
    },
    {
      "cell_type": "markdown",
      "metadata": {
        "id": "RdQgQWJDjfbr",
        "colab_type": "text"
      },
      "source": [
        "Preprocess text data to remove HTML markup, non-word character and bring the emoticons to the end of text."
      ]
    },
    {
      "cell_type": "code",
      "metadata": {
        "id": "6NdvMQefMiCF",
        "colab_type": "code",
        "outputId": "596a86d7-afcf-41e2-a3e4-f45e343c8f28",
        "colab": {
          "base_uri": "https://localhost:8080/",
          "height": 35
        }
      },
      "source": [
        "import re\n",
        "import contractions\n",
        "\n",
        "def preprocessor(text):\n",
        "    # Remove HTML markup\n",
        "    text = re.sub('<[^>]*>', '', text)\n",
        "    \n",
        "    # Save emoticons for later appending\n",
        "    emoticons = re.findall('(?::|;|=)(?:-)?(?:\\)+|\\(|D|P)', text)\n",
        "\n",
        "    text = contractions.fix(text)\n",
        "    # Remove any non-word character and append the emoticons,\n",
        "    # removing the nose character for standarization. Convert to lower case\n",
        "    text = (re.sub('[\\W]+', ' ', text.lower()) + ' ' + ' '.join(emoticons).replace('-', ''))\n",
        "\n",
        "    return text\n",
        "\n",
        "print(preprocessor('''We are \\\\almost read:))y! There is ano//ther^^ trick we ca\\\\n use to reduce o'''))"
      ],
      "execution_count": 121,
      "outputs": [
        {
          "output_type": "stream",
          "text": [
            "we are almost read y there is ano ther trick we ca n use to reduce o :))\n"
          ],
          "name": "stdout"
        }
      ]
    },
    {
      "cell_type": "markdown",
      "metadata": {
        "id": "U5LNSpcvLvl8",
        "colab_type": "text"
      },
      "source": [
        "---\n",
        "#### Stemmer\n"
      ]
    },
    {
      "cell_type": "markdown",
      "metadata": {
        "id": "F3nQEj1Bj2xj",
        "colab_type": "text"
      },
      "source": [
        "Use PorterStemmer to normalize all the word in the text."
      ]
    },
    {
      "cell_type": "code",
      "metadata": {
        "id": "KXJdF5rcNseu",
        "colab_type": "code",
        "colab": {}
      },
      "source": [
        "from nltk.stem import PorterStemmer\n",
        "\n",
        "def tokenizer(text):\n",
        "  words = word_tokenize(text)\n",
        "  s_words = pd.Series(words)\n",
        "  s_words = lemmatize(s_words)\n",
        "  s_words = stemming_porter(s_words)\n",
        "  return s_words.tolist()\n",
        "\n",
        "def lemmatize(s_words):\n",
        "  wordnet_lemmatizer = WordNetLemmatizer()\n",
        "  return s_words.apply(lambda w: wordnet_lemmatizer.lemmatize(w))\n",
        "\n",
        "def tokenizer_porter(text):\n",
        "    porter = PorterStemmer()\n",
        "    return [porter.stem(i) for i in text.split()]"
      ],
      "execution_count": 0,
      "outputs": []
    },
    {
      "cell_type": "markdown",
      "metadata": {
        "id": "p69dS9TJSaSv",
        "colab_type": "text"
      },
      "source": [
        "\n",
        "\n",
        "---\n",
        "\n",
        "\n",
        "#### Use Vectorizer to transfrom preprocess methods to vectorize method"
      ]
    },
    {
      "cell_type": "code",
      "metadata": {
        "id": "qttQ2lzNOCVO",
        "colab_type": "code",
        "colab": {}
      },
      "source": [
        "from sklearn.feature_extraction.text import TfidfVectorizer\n",
        "\n",
        "tfidf = TfidfVectorizer(stop_words = stop, tokenizer = tokenizer_porter,\n",
        "                        preprocessor = preprocessor)"
      ],
      "execution_count": 0,
      "outputs": []
    },
    {
      "cell_type": "markdown",
      "metadata": {
        "id": "a1Ji3b9iS4WX",
        "colab_type": "text"
      },
      "source": [
        "---\n",
        "#### Use train_test_split to split data to train and test set"
      ]
    },
    {
      "cell_type": "code",
      "metadata": {
        "id": "o7mFVKOAUV79",
        "colab_type": "code",
        "colab": {}
      },
      "source": [
        "from sklearn.model_selection import train_test_split\n",
        "\n",
        "X = sentiment.review\n",
        "y = sentiment.sentiment\n",
        "\n",
        "X_train, X_test, y_train, y_test = train_test_split(X, y, test_size = 0.2, random_state = 1234)"
      ],
      "execution_count": 0,
      "outputs": []
    },
    {
      "cell_type": "markdown",
      "metadata": {
        "id": "rtQ-2EIBMf76",
        "colab_type": "text"
      },
      "source": [
        "\n",
        "\n",
        "---\n",
        "\n",
        "\n",
        "#### Create Pipeline\n",
        "\n",
        "\n"
      ]
    },
    {
      "cell_type": "markdown",
      "metadata": {
        "id": "PbmuljDnNMgC",
        "colab_type": "text"
      },
      "source": [
        "Use Pipeline to apply preprocess methods to data then transfer data to our model"
      ]
    },
    {
      "cell_type": "code",
      "metadata": {
        "id": "blTi_pDPOV18",
        "colab_type": "code",
        "outputId": "3c44f428-0ffb-4633-ead3-634bf1652edc",
        "colab": {
          "base_uri": "https://localhost:8080/",
          "height": 435
        }
      },
      "source": [
        "from sklearn.pipeline import Pipeline\n",
        "from sklearn.linear_model import LogisticRegression\n",
        "\n",
        "clf = Pipeline([('vect', tfidf),\n",
        "                ('clf', LogisticRegression(random_state = 0, max_iter = 4000))])\n",
        "clf.fit(X_train, y_train)"
      ],
      "execution_count": 149,
      "outputs": [
        {
          "output_type": "execute_result",
          "data": {
            "text/plain": [
              "Pipeline(memory=None,\n",
              "         steps=[('vect',\n",
              "                 TfidfVectorizer(analyzer='word', binary=False,\n",
              "                                 decode_error='strict',\n",
              "                                 dtype=<class 'numpy.float64'>,\n",
              "                                 encoding='utf-8', input='content',\n",
              "                                 lowercase=True, max_df=1.0, max_features=None,\n",
              "                                 min_df=1, ngram_range=(1, 1), norm='l2',\n",
              "                                 preprocessor=<function preprocessor at 0x7f04164a3048>,\n",
              "                                 smooth_idf=True,\n",
              "                                 stop_words=['i', 'me', 'my', 'myself', '...\n",
              "                                 token_pattern='(?u)\\\\b\\\\w\\\\w+\\\\b',\n",
              "                                 tokenizer=<function tokenizer_porter at 0x7f04164a3378>,\n",
              "                                 use_idf=True, vocabulary=None)),\n",
              "                ('clf',\n",
              "                 LogisticRegression(C=1.0, class_weight=None, dual=False,\n",
              "                                    fit_intercept=True, intercept_scaling=1,\n",
              "                                    l1_ratio=None, max_iter=4000,\n",
              "                                    multi_class='auto', n_jobs=None,\n",
              "                                    penalty='l2', random_state=0,\n",
              "                                    solver='lbfgs', tol=0.0001, verbose=0,\n",
              "                                    warm_start=False))],\n",
              "         verbose=False)"
            ]
          },
          "metadata": {
            "tags": []
          },
          "execution_count": 149
        }
      ]
    },
    {
      "cell_type": "markdown",
      "metadata": {
        "id": "O-iZBkk-PcSN",
        "colab_type": "text"
      },
      "source": [
        "Test model with test data set and evaluate the model"
      ]
    },
    {
      "cell_type": "code",
      "metadata": {
        "id": "KPU_KUYKPr2W",
        "colab_type": "code",
        "colab": {}
      },
      "source": [
        "test_pred = clf.predict(X_test)"
      ],
      "execution_count": 0,
      "outputs": []
    },
    {
      "cell_type": "code",
      "metadata": {
        "id": "49p4kOFdPxR6",
        "colab_type": "code",
        "outputId": "9646feae-8484-4acb-fab6-2950fc4fd118",
        "colab": {
          "base_uri": "https://localhost:8080/",
          "height": 235
        }
      },
      "source": [
        "from sklearn.metrics import accuracy_score, confusion_matrix, classification_report\n",
        "\n",
        "print(accuracy_score(y_test, test_pred))\n",
        "print(classification_report(y_test, test_pred))\n",
        "print(confusion_matrix(y_test, test_pred))"
      ],
      "execution_count": 153,
      "outputs": [
        {
          "output_type": "stream",
          "text": [
            "0.8818283166109253\n",
            "              precision    recall  f1-score   support\n",
            "\n",
            "           0       0.89      0.86      0.88      2185\n",
            "           1       0.87      0.90      0.89      2300\n",
            "\n",
            "    accuracy                           0.88      4485\n",
            "   macro avg       0.88      0.88      0.88      4485\n",
            "weighted avg       0.88      0.88      0.88      4485\n",
            "\n",
            "[[1884  301]\n",
            " [ 229 2071]]\n"
          ],
          "name": "stdout"
        }
      ]
    },
    {
      "cell_type": "markdown",
      "metadata": {
        "id": "owigFYH8dg9X",
        "colab_type": "text"
      },
      "source": [
        "#### Load evaluate data"
      ]
    },
    {
      "cell_type": "code",
      "metadata": {
        "id": "BP33wZ5cUeq_",
        "colab_type": "code",
        "colab": {
          "base_uri": "https://localhost:8080/",
          "height": 198
        },
        "outputId": "da5e1da0-e109-4a8d-8c59-9d8dfb024f8f"
      },
      "source": [
        "test_data = pd.read_csv('/ggdrive/My Drive/FTMLE - Tonga/Data/movie_review_evaluation.csv', sep = '\\t')\n",
        "test_data.head()"
      ],
      "execution_count": 151,
      "outputs": [
        {
          "output_type": "execute_result",
          "data": {
            "text/html": [
              "<div>\n",
              "<style scoped>\n",
              "    .dataframe tbody tr th:only-of-type {\n",
              "        vertical-align: middle;\n",
              "    }\n",
              "\n",
              "    .dataframe tbody tr th {\n",
              "        vertical-align: top;\n",
              "    }\n",
              "\n",
              "    .dataframe thead th {\n",
              "        text-align: right;\n",
              "    }\n",
              "</style>\n",
              "<table border=\"1\" class=\"dataframe\">\n",
              "  <thead>\n",
              "    <tr style=\"text-align: right;\">\n",
              "      <th></th>\n",
              "      <th>id</th>\n",
              "      <th>review</th>\n",
              "    </tr>\n",
              "  </thead>\n",
              "  <tbody>\n",
              "    <tr>\n",
              "      <th>0</th>\n",
              "      <td>10633_1</td>\n",
              "      <td>I watched this video at a friend's house. I'm ...</td>\n",
              "    </tr>\n",
              "    <tr>\n",
              "      <th>1</th>\n",
              "      <td>4489_1</td>\n",
              "      <td>`The Matrix' was an exciting summer blockbuste...</td>\n",
              "    </tr>\n",
              "    <tr>\n",
              "      <th>2</th>\n",
              "      <td>3304_10</td>\n",
              "      <td>This movie is one among the very few Indian mo...</td>\n",
              "    </tr>\n",
              "    <tr>\n",
              "      <th>3</th>\n",
              "      <td>3350_3</td>\n",
              "      <td>The script for this movie was probably found i...</td>\n",
              "    </tr>\n",
              "    <tr>\n",
              "      <th>4</th>\n",
              "      <td>1119_1</td>\n",
              "      <td>Even if this film was allegedly a joke in resp...</td>\n",
              "    </tr>\n",
              "  </tbody>\n",
              "</table>\n",
              "</div>"
            ],
            "text/plain": [
              "        id                                             review\n",
              "0  10633_1  I watched this video at a friend's house. I'm ...\n",
              "1   4489_1  `The Matrix' was an exciting summer blockbuste...\n",
              "2  3304_10  This movie is one among the very few Indian mo...\n",
              "3   3350_3  The script for this movie was probably found i...\n",
              "4   1119_1  Even if this film was allegedly a joke in resp..."
            ]
          },
          "metadata": {
            "tags": []
          },
          "execution_count": 151
        }
      ]
    },
    {
      "cell_type": "code",
      "metadata": {
        "id": "_SY31eRUU0EI",
        "colab_type": "code",
        "colab": {
          "base_uri": "https://localhost:8080/",
          "height": 35
        },
        "outputId": "492cf7ae-ccef-4c48-9cc4-3e1484daf3cc"
      },
      "source": [
        "X_evaluate = test_data.review\n",
        "X_evaluate.shape"
      ],
      "execution_count": 154,
      "outputs": [
        {
          "output_type": "execute_result",
          "data": {
            "text/plain": [
              "(2500,)"
            ]
          },
          "metadata": {
            "tags": []
          },
          "execution_count": 154
        }
      ]
    },
    {
      "cell_type": "code",
      "metadata": {
        "id": "6pqpT0wqU7-N",
        "colab_type": "code",
        "colab": {
          "base_uri": "https://localhost:8080/",
          "height": 35
        },
        "outputId": "b426f514-f644-46fe-bd1a-c73ba9577cd8"
      },
      "source": [
        "evaluate_pred = clf.predict(X_evaluate)\n",
        "evaluate_pred.shape, evaluate_pred"
      ],
      "execution_count": 158,
      "outputs": [
        {
          "output_type": "execute_result",
          "data": {
            "text/plain": [
              "((2500,), array([0, 0, 1, ..., 1, 0, 1]))"
            ]
          },
          "metadata": {
            "tags": []
          },
          "execution_count": 158
        }
      ]
    },
    {
      "cell_type": "code",
      "metadata": {
        "id": "k4jsG2CPVLuf",
        "colab_type": "code",
        "colab": {}
      },
      "source": [
        "df_evaluate_pred = pd.DataFrame(evaluate_pred)"
      ],
      "execution_count": 0,
      "outputs": []
    },
    {
      "cell_type": "code",
      "metadata": {
        "id": "4PqxvSosV9F1",
        "colab_type": "code",
        "colab": {
          "base_uri": "https://localhost:8080/",
          "height": 407
        },
        "outputId": "fcde66e1-c841-4d8a-b526-4900e349eabb"
      },
      "source": [
        "df_evaluate_pred.columns = ['clf']\n",
        "df_evaluate_pred"
      ],
      "execution_count": 190,
      "outputs": [
        {
          "output_type": "execute_result",
          "data": {
            "text/html": [
              "<div>\n",
              "<style scoped>\n",
              "    .dataframe tbody tr th:only-of-type {\n",
              "        vertical-align: middle;\n",
              "    }\n",
              "\n",
              "    .dataframe tbody tr th {\n",
              "        vertical-align: top;\n",
              "    }\n",
              "\n",
              "    .dataframe thead th {\n",
              "        text-align: right;\n",
              "    }\n",
              "</style>\n",
              "<table border=\"1\" class=\"dataframe\">\n",
              "  <thead>\n",
              "    <tr style=\"text-align: right;\">\n",
              "      <th></th>\n",
              "      <th>clf</th>\n",
              "    </tr>\n",
              "  </thead>\n",
              "  <tbody>\n",
              "    <tr>\n",
              "      <th>0</th>\n",
              "      <td>0</td>\n",
              "    </tr>\n",
              "    <tr>\n",
              "      <th>1</th>\n",
              "      <td>0</td>\n",
              "    </tr>\n",
              "    <tr>\n",
              "      <th>2</th>\n",
              "      <td>1</td>\n",
              "    </tr>\n",
              "    <tr>\n",
              "      <th>3</th>\n",
              "      <td>0</td>\n",
              "    </tr>\n",
              "    <tr>\n",
              "      <th>4</th>\n",
              "      <td>0</td>\n",
              "    </tr>\n",
              "    <tr>\n",
              "      <th>...</th>\n",
              "      <td>...</td>\n",
              "    </tr>\n",
              "    <tr>\n",
              "      <th>2495</th>\n",
              "      <td>1</td>\n",
              "    </tr>\n",
              "    <tr>\n",
              "      <th>2496</th>\n",
              "      <td>0</td>\n",
              "    </tr>\n",
              "    <tr>\n",
              "      <th>2497</th>\n",
              "      <td>1</td>\n",
              "    </tr>\n",
              "    <tr>\n",
              "      <th>2498</th>\n",
              "      <td>0</td>\n",
              "    </tr>\n",
              "    <tr>\n",
              "      <th>2499</th>\n",
              "      <td>1</td>\n",
              "    </tr>\n",
              "  </tbody>\n",
              "</table>\n",
              "<p>2500 rows × 1 columns</p>\n",
              "</div>"
            ],
            "text/plain": [
              "      clf\n",
              "0       0\n",
              "1       0\n",
              "2       1\n",
              "3       0\n",
              "4       0\n",
              "...   ...\n",
              "2495    1\n",
              "2496    0\n",
              "2497    1\n",
              "2498    0\n",
              "2499    1\n",
              "\n",
              "[2500 rows x 1 columns]"
            ]
          },
          "metadata": {
            "tags": []
          },
          "execution_count": 190
        }
      ]
    },
    {
      "cell_type": "code",
      "metadata": {
        "id": "UncZS8rdQWhj",
        "colab_type": "code",
        "colab": {}
      },
      "source": [
        "# import pickle\n",
        "# import os\n",
        "\n",
        "# pickle.dump(clf, open(os.path.join('NLP_movie_review.pkl'), 'wb'))"
      ],
      "execution_count": 0,
      "outputs": []
    },
    {
      "cell_type": "code",
      "metadata": {
        "id": "z8Q4NnI9FaNZ",
        "colab_type": "code",
        "colab": {}
      },
      "source": [
        "# Use cross_val_score to test model\n",
        "# from sklearn.model_selection import cross_val_score\n",
        "\n",
        "# scores = cross_val_score(clf, X, y, cv=10, scoring='accuracy')\n",
        "# print(scores)"
      ],
      "execution_count": 0,
      "outputs": []
    },
    {
      "cell_type": "markdown",
      "metadata": {
        "id": "ybHVRt9KTeoI",
        "colab_type": "text"
      },
      "source": [
        "---\n",
        "#### Test model with list of C parameter to find the higher accuracy score"
      ]
    },
    {
      "cell_type": "code",
      "metadata": {
        "id": "pkf-2xiN27pB",
        "colab_type": "code",
        "colab": {}
      },
      "source": [
        "from sklearn.pipeline import Pipeline\n",
        "from sklearn.linear_model import LogisticRegressionCV\n",
        "from sklearn.model_selection import GridSearchCV\n",
        "\n",
        "C_list = np.arange(0.2682695795279725, 5.79474679231202, 5)\n",
        "param_dict = dict(C = C_list)\n",
        "score3 = []\n",
        "for i in C_list:\n",
        "    clf = Pipeline([('vect', tfidf),\n",
        "                    ('clf', LogisticRegression(C= i, max_iter=4000))])\n",
        "    clf.fit(X_train, y_train)\n",
        "    pred = clf.predict(X_test)\n",
        "    score3.append((i, accuracy_score(y_test, pred)))"
      ],
      "execution_count": 0,
      "outputs": []
    },
    {
      "cell_type": "code",
      "metadata": {
        "id": "vc8C9XTJNM8z",
        "colab_type": "code",
        "outputId": "7a84a8a5-efcf-41c2-ae22-1e6ad3c1bb7f",
        "colab": {
          "base_uri": "https://localhost:8080/",
          "height": 153
        }
      },
      "source": [
        "score"
      ],
      "execution_count": 0,
      "outputs": [
        {
          "output_type": "execute_result",
          "data": {
            "text/plain": [
              "[(0.0001, 0.5018952062430323),\n",
              " (0.0013894954943731374, 0.7645484949832776),\n",
              " (0.019306977288832496, 0.822742474916388),\n",
              " (0.2682695795279725, 0.881159420289855),\n",
              " (3.727593720314938, 0.8987736900780379),\n",
              " (51.79474679231202, 0.8847268673355629),\n",
              " (719.6856730011514, 0.8735785953177257),\n",
              " (10000.0, 0.8693422519509476)]"
            ]
          },
          "metadata": {
            "tags": []
          },
          "execution_count": 127
        }
      ]
    },
    {
      "cell_type": "code",
      "metadata": {
        "id": "8DzGnyrSRyGF",
        "colab_type": "code",
        "outputId": "2c9d4972-6507-475e-98d6-cc6ce7a96609",
        "colab": {
          "base_uri": "https://localhost:8080/",
          "height": 119
        }
      },
      "source": [
        "score2"
      ],
      "execution_count": 0,
      "outputs": [
        {
          "output_type": "execute_result",
          "data": {
            "text/plain": [
              "[(0.2682695795279725, 0.881159420289855),\n",
              " (10.268269579527972, 0.8958751393534002),\n",
              " (20.268269579527974, 0.8907469342251951),\n",
              " (30.268269579527974, 0.8876254180602007),\n",
              " (40.268269579527974, 0.8847268673355629),\n",
              " (50.268269579527974, 0.8845039018952062)]"
            ]
          },
          "metadata": {
            "tags": []
          },
          "execution_count": 129
        }
      ]
    },
    {
      "cell_type": "code",
      "metadata": {
        "id": "2L2oBChuTEYy",
        "colab_type": "code",
        "outputId": "2b6096ad-5153-477f-b52a-92a7b47465c3",
        "colab": {
          "base_uri": "https://localhost:8080/",
          "height": 51
        }
      },
      "source": [
        "score3"
      ],
      "execution_count": 0,
      "outputs": [
        {
          "output_type": "execute_result",
          "data": {
            "text/plain": [
              "[(0.2682695795279725, 0.881159420289855),\n",
              " (5.268269579527972, 0.8972129319955406)]"
            ]
          },
          "metadata": {
            "tags": []
          },
          "execution_count": 131
        }
      ]
    },
    {
      "cell_type": "markdown",
      "metadata": {
        "id": "tthmn65iTZvm",
        "colab_type": "text"
      },
      "source": [
        "---\n",
        "#### Apply best C parameter to model"
      ]
    },
    {
      "cell_type": "code",
      "metadata": {
        "id": "_8DRzncI6Zor",
        "colab_type": "code",
        "outputId": "ce13315c-929d-436c-80ea-38839fa601ea",
        "colab": {
          "base_uri": "https://localhost:8080/",
          "height": 417
        }
      },
      "source": [
        "from sklearn.pipeline import Pipeline\n",
        "from sklearn.linear_model import LogisticRegression\n",
        "\n",
        "clf2 = Pipeline([('vect', tfidf),\n",
        "                    ('clf', LogisticRegression(C= 5.268269579527972, max_iter=4000))])\n",
        "clf2.fit(X_train, y_train)"
      ],
      "execution_count": 160,
      "outputs": [
        {
          "output_type": "execute_result",
          "data": {
            "text/plain": [
              "Pipeline(memory=None,\n",
              "         steps=[('vect',\n",
              "                 TfidfVectorizer(analyzer='word', binary=False,\n",
              "                                 decode_error='strict',\n",
              "                                 dtype=<class 'numpy.float64'>,\n",
              "                                 encoding='utf-8', input='content',\n",
              "                                 lowercase=True, max_df=1.0, max_features=None,\n",
              "                                 min_df=1, ngram_range=(1, 1), norm='l2',\n",
              "                                 preprocessor=<function preprocessor at 0x7f04164a3048>,\n",
              "                                 smooth_idf=True,\n",
              "                                 stop_words=['i', 'me', 'my', 'myself', '...\n",
              "                                 tokenizer=<function tokenizer_porter at 0x7f04164a3378>,\n",
              "                                 use_idf=True, vocabulary=None)),\n",
              "                ('clf',\n",
              "                 LogisticRegression(C=5.268269579527972, class_weight=None,\n",
              "                                    dual=False, fit_intercept=True,\n",
              "                                    intercept_scaling=1, l1_ratio=None,\n",
              "                                    max_iter=4000, multi_class='auto',\n",
              "                                    n_jobs=None, penalty='l2',\n",
              "                                    random_state=None, solver='lbfgs',\n",
              "                                    tol=0.0001, verbose=0, warm_start=False))],\n",
              "         verbose=False)"
            ]
          },
          "metadata": {
            "tags": []
          },
          "execution_count": 160
        }
      ]
    },
    {
      "cell_type": "markdown",
      "metadata": {
        "id": "OaWuLVu5TwJ9",
        "colab_type": "text"
      },
      "source": [
        "Predict with new model and check model scores"
      ]
    },
    {
      "cell_type": "code",
      "metadata": {
        "id": "q_qq3RhBTtqN",
        "colab_type": "code",
        "outputId": "93cd4292-775b-4742-d127-aa1377571f3e",
        "colab": {
          "base_uri": "https://localhost:8080/",
          "height": 235
        }
      },
      "source": [
        "test_pred = clf2.predict(X_test)\n",
        "print(accuracy_score(y_test, test_pred))\n",
        "print(classification_report(y_test, test_pred))\n",
        "print(confusion_matrix(y_test, test_pred))"
      ],
      "execution_count": 161,
      "outputs": [
        {
          "output_type": "stream",
          "text": [
            "0.8898550724637682\n",
            "              precision    recall  f1-score   support\n",
            "\n",
            "           0       0.90      0.88      0.89      2185\n",
            "           1       0.88      0.90      0.89      2300\n",
            "\n",
            "    accuracy                           0.89      4485\n",
            "   macro avg       0.89      0.89      0.89      4485\n",
            "weighted avg       0.89      0.89      0.89      4485\n",
            "\n",
            "[[1912  273]\n",
            " [ 221 2079]]\n"
          ],
          "name": "stdout"
        }
      ]
    },
    {
      "cell_type": "markdown",
      "metadata": {
        "id": "5FYJJhwAdyXF",
        "colab_type": "text"
      },
      "source": [
        "Use model clf2 predict the evaluate data"
      ]
    },
    {
      "cell_type": "code",
      "metadata": {
        "id": "8tEv09fjWl8p",
        "colab_type": "code",
        "colab": {
          "base_uri": "https://localhost:8080/",
          "height": 35
        },
        "outputId": "a8e70133-91c2-4ac8-8ff5-dd7a9a271e0d"
      },
      "source": [
        "evaluate_pred2 = clf2.predict(X_evaluate)\n",
        "evaluate_pred2.shape, evaluate_pred2"
      ],
      "execution_count": 162,
      "outputs": [
        {
          "output_type": "execute_result",
          "data": {
            "text/plain": [
              "((2500,), array([0, 0, 1, ..., 1, 0, 1]))"
            ]
          },
          "metadata": {
            "tags": []
          },
          "execution_count": 162
        }
      ]
    },
    {
      "cell_type": "markdown",
      "metadata": {
        "id": "xOJlY0Q0d9mH",
        "colab_type": "text"
      },
      "source": [
        "Create model clf3 with other C value"
      ]
    },
    {
      "cell_type": "code",
      "metadata": {
        "id": "n87i4iFfZrUL",
        "colab_type": "code",
        "colab": {
          "base_uri": "https://localhost:8080/",
          "height": 417
        },
        "outputId": "2a050f1f-fe44-47b4-915a-a0b816dc217d"
      },
      "source": [
        "from sklearn.pipeline import Pipeline\n",
        "from sklearn.linear_model import LogisticRegression\n",
        "\n",
        "clf3 = Pipeline([('vect', tfidf),\n",
        "                    ('clf', LogisticRegression(C= 3.727593720314938, max_iter=4000))])\n",
        "clf3.fit(X_train, y_train)"
      ],
      "execution_count": 166,
      "outputs": [
        {
          "output_type": "execute_result",
          "data": {
            "text/plain": [
              "Pipeline(memory=None,\n",
              "         steps=[('vect',\n",
              "                 TfidfVectorizer(analyzer='word', binary=False,\n",
              "                                 decode_error='strict',\n",
              "                                 dtype=<class 'numpy.float64'>,\n",
              "                                 encoding='utf-8', input='content',\n",
              "                                 lowercase=True, max_df=1.0, max_features=None,\n",
              "                                 min_df=1, ngram_range=(1, 1), norm='l2',\n",
              "                                 preprocessor=<function preprocessor at 0x7f04164a3048>,\n",
              "                                 smooth_idf=True,\n",
              "                                 stop_words=['i', 'me', 'my', 'myself', '...\n",
              "                                 tokenizer=<function tokenizer_porter at 0x7f04164a3378>,\n",
              "                                 use_idf=True, vocabulary=None)),\n",
              "                ('clf',\n",
              "                 LogisticRegression(C=3.727593720314938, class_weight=None,\n",
              "                                    dual=False, fit_intercept=True,\n",
              "                                    intercept_scaling=1, l1_ratio=None,\n",
              "                                    max_iter=4000, multi_class='auto',\n",
              "                                    n_jobs=None, penalty='l2',\n",
              "                                    random_state=None, solver='lbfgs',\n",
              "                                    tol=0.0001, verbose=0, warm_start=False))],\n",
              "         verbose=False)"
            ]
          },
          "metadata": {
            "tags": []
          },
          "execution_count": 166
        }
      ]
    },
    {
      "cell_type": "code",
      "metadata": {
        "id": "2L-xnZknaImW",
        "colab_type": "code",
        "colab": {
          "base_uri": "https://localhost:8080/",
          "height": 235
        },
        "outputId": "7779b1e4-9aeb-4fac-efb6-3680424a0fc9"
      },
      "source": [
        "test_pred = clf3.predict(X_test)\n",
        "print(accuracy_score(y_test, test_pred))\n",
        "print(classification_report(y_test, test_pred))\n",
        "print(confusion_matrix(y_test, test_pred))"
      ],
      "execution_count": 168,
      "outputs": [
        {
          "output_type": "stream",
          "text": [
            "0.8878483835005574\n",
            "              precision    recall  f1-score   support\n",
            "\n",
            "           0       0.89      0.88      0.88      2185\n",
            "           1       0.88      0.90      0.89      2300\n",
            "\n",
            "    accuracy                           0.89      4485\n",
            "   macro avg       0.89      0.89      0.89      4485\n",
            "weighted avg       0.89      0.89      0.89      4485\n",
            "\n",
            "[[1913  272]\n",
            " [ 231 2069]]\n"
          ],
          "name": "stdout"
        }
      ]
    },
    {
      "cell_type": "markdown",
      "metadata": {
        "colab_type": "text",
        "id": "yrppyxXnd6kg"
      },
      "source": [
        "Use model clf3 predict the evaluate data"
      ]
    },
    {
      "cell_type": "code",
      "metadata": {
        "id": "jYF7BmYBaDUG",
        "colab_type": "code",
        "colab": {
          "base_uri": "https://localhost:8080/",
          "height": 35
        },
        "outputId": "28708751-93e7-4b65-a78b-12c80d206640"
      },
      "source": [
        "evaluate_pred3 = clf3.predict(X_evaluate)\n",
        "evaluate_pred3.shape, evaluate_pred3"
      ],
      "execution_count": 167,
      "outputs": [
        {
          "output_type": "execute_result",
          "data": {
            "text/plain": [
              "((2500,), array([0, 0, 1, ..., 1, 0, 1]))"
            ]
          },
          "metadata": {
            "tags": []
          },
          "execution_count": 167
        }
      ]
    },
    {
      "cell_type": "markdown",
      "metadata": {
        "id": "0awn0x0meFGI",
        "colab_type": "text"
      },
      "source": [
        "Train model clf2 again with whole labeled data"
      ]
    },
    {
      "cell_type": "code",
      "metadata": {
        "id": "fVMjW28PaREq",
        "colab_type": "code",
        "colab": {
          "base_uri": "https://localhost:8080/",
          "height": 417
        },
        "outputId": "01a5c18d-ac64-4bcf-f45b-963efa46552b"
      },
      "source": [
        "clf2.fit(X, y)"
      ],
      "execution_count": 171,
      "outputs": [
        {
          "output_type": "execute_result",
          "data": {
            "text/plain": [
              "Pipeline(memory=None,\n",
              "         steps=[('vect',\n",
              "                 TfidfVectorizer(analyzer='word', binary=False,\n",
              "                                 decode_error='strict',\n",
              "                                 dtype=<class 'numpy.float64'>,\n",
              "                                 encoding='utf-8', input='content',\n",
              "                                 lowercase=True, max_df=1.0, max_features=None,\n",
              "                                 min_df=1, ngram_range=(1, 1), norm='l2',\n",
              "                                 preprocessor=<function preprocessor at 0x7f04164a3048>,\n",
              "                                 smooth_idf=True,\n",
              "                                 stop_words=['i', 'me', 'my', 'myself', '...\n",
              "                                 tokenizer=<function tokenizer_porter at 0x7f04164a3378>,\n",
              "                                 use_idf=True, vocabulary=None)),\n",
              "                ('clf',\n",
              "                 LogisticRegression(C=5.268269579527972, class_weight=None,\n",
              "                                    dual=False, fit_intercept=True,\n",
              "                                    intercept_scaling=1, l1_ratio=None,\n",
              "                                    max_iter=4000, multi_class='auto',\n",
              "                                    n_jobs=None, penalty='l2',\n",
              "                                    random_state=None, solver='lbfgs',\n",
              "                                    tol=0.0001, verbose=0, warm_start=False))],\n",
              "         verbose=False)"
            ]
          },
          "metadata": {
            "tags": []
          },
          "execution_count": 171
        }
      ]
    },
    {
      "cell_type": "code",
      "metadata": {
        "id": "iNmlsORFabVF",
        "colab_type": "code",
        "colab": {
          "base_uri": "https://localhost:8080/",
          "height": 235
        },
        "outputId": "c9d3b2db-c859-485b-9915-df7fd9c64439"
      },
      "source": [
        "test_pred = clf2.predict(X_test)\n",
        "print(accuracy_score(y_test, test_pred))\n",
        "print(classification_report(y_test, test_pred))\n",
        "print(confusion_matrix(y_test, test_pred))"
      ],
      "execution_count": 172,
      "outputs": [
        {
          "output_type": "stream",
          "text": [
            "0.966778149386845\n",
            "              precision    recall  f1-score   support\n",
            "\n",
            "           0       0.97      0.96      0.97      2185\n",
            "           1       0.97      0.97      0.97      2300\n",
            "\n",
            "    accuracy                           0.97      4485\n",
            "   macro avg       0.97      0.97      0.97      4485\n",
            "weighted avg       0.97      0.97      0.97      4485\n",
            "\n",
            "[[2106   79]\n",
            " [  70 2230]]\n"
          ],
          "name": "stdout"
        }
      ]
    },
    {
      "cell_type": "markdown",
      "metadata": {
        "id": "oNyw_0hQeMgn",
        "colab_type": "text"
      },
      "source": [
        "Use re-train model clf2 to predict the evaluate data"
      ]
    },
    {
      "cell_type": "code",
      "metadata": {
        "id": "VWvF2zW8ad02",
        "colab_type": "code",
        "colab": {
          "base_uri": "https://localhost:8080/",
          "height": 35
        },
        "outputId": "20b50044-4d01-4238-8397-86599e24b33c"
      },
      "source": [
        "evaluate_pred4 = clf2.predict(X_evaluate)\n",
        "evaluate_pred4.shape, evaluate_pred4"
      ],
      "execution_count": 174,
      "outputs": [
        {
          "output_type": "execute_result",
          "data": {
            "text/plain": [
              "((2500,), array([0, 0, 1, ..., 1, 0, 1]))"
            ]
          },
          "metadata": {
            "tags": []
          },
          "execution_count": 174
        }
      ]
    },
    {
      "cell_type": "markdown",
      "metadata": {
        "id": "jK8XdxHGeTnV",
        "colab_type": "text"
      },
      "source": [
        "Compare different between predictions of models"
      ]
    },
    {
      "cell_type": "code",
      "metadata": {
        "id": "bhQaH_FlahJD",
        "colab_type": "code",
        "colab": {
          "base_uri": "https://localhost:8080/",
          "height": 108
        },
        "outputId": "a161c056-5032-4362-e047-12d6077f1dfc"
      },
      "source": [
        "df_evaluate_pred['clf2'] = pd.Series(evaluate_pred2)\n",
        "df_evaluate_pred['clf3'] = pd.Series(evaluate_pred3)\n",
        "df_evaluate_pred['clf2 re-train'] = pd.Series(evaluate_pred4)\n",
        "df_evaluate_pred.sum()"
      ],
      "execution_count": 191,
      "outputs": [
        {
          "output_type": "execute_result",
          "data": {
            "text/plain": [
              "clf              1282\n",
              "clf2             1268\n",
              "clf3             1276\n",
              "clf2 re-train    1270\n",
              "dtype: int64"
            ]
          },
          "metadata": {
            "tags": []
          },
          "execution_count": 191
        }
      ]
    },
    {
      "cell_type": "markdown",
      "metadata": {
        "id": "U7eSlmEjebmx",
        "colab_type": "text"
      },
      "source": [
        "Try re-train model clf with the whole labeled data"
      ]
    },
    {
      "cell_type": "code",
      "metadata": {
        "id": "NrmRytMhchNM",
        "colab_type": "code",
        "colab": {
          "base_uri": "https://localhost:8080/",
          "height": 235
        },
        "outputId": "04c0deb6-4e59-45eb-f904-2be65b132891"
      },
      "source": [
        "clf.fit(X, y)\n",
        "pred5 = clf.predict(X_test)\n",
        "print(accuracy_score(y_test, pred5))\n",
        "print(classification_report(y_test, pred5))\n",
        "print(confusion_matrix(y_test, pred5))"
      ],
      "execution_count": 176,
      "outputs": [
        {
          "output_type": "stream",
          "text": [
            "0.9237458193979933\n",
            "              precision    recall  f1-score   support\n",
            "\n",
            "           0       0.93      0.91      0.92      2185\n",
            "           1       0.92      0.93      0.93      2300\n",
            "\n",
            "    accuracy                           0.92      4485\n",
            "   macro avg       0.92      0.92      0.92      4485\n",
            "weighted avg       0.92      0.92      0.92      4485\n",
            "\n",
            "[[1998  187]\n",
            " [ 155 2145]]\n"
          ],
          "name": "stdout"
        }
      ]
    },
    {
      "cell_type": "markdown",
      "metadata": {
        "id": "pUrS_2HPfWO1",
        "colab_type": "text"
      },
      "source": [
        "The precision score is lower than the re-train clf2"
      ]
    },
    {
      "cell_type": "markdown",
      "metadata": {
        "id": "WWFj6eg2hDmA",
        "colab_type": "text"
      },
      "source": [
        "---\n",
        "Add predictions to evaluate data and export the result\n"
      ]
    },
    {
      "cell_type": "code",
      "metadata": {
        "id": "sTDNx0TEfb8-",
        "colab_type": "code",
        "colab": {}
      },
      "source": [
        "test_data['sentiment'] = df_evaluate_pred['clf2 re-train']\n",
        "test_data.to_csv('AnhTuan.csv')"
      ],
      "execution_count": 0,
      "outputs": []
    },
    {
      "cell_type": "code",
      "metadata": {
        "id": "v5LlifM6hdVv",
        "colab_type": "code",
        "colab": {
          "base_uri": "https://localhost:8080/",
          "height": 348
        },
        "outputId": "63199e4a-0d62-42cb-dbc4-25c531abc897"
      },
      "source": [
        "test_data.sample(10)"
      ],
      "execution_count": 198,
      "outputs": [
        {
          "output_type": "execute_result",
          "data": {
            "text/html": [
              "<div>\n",
              "<style scoped>\n",
              "    .dataframe tbody tr th:only-of-type {\n",
              "        vertical-align: middle;\n",
              "    }\n",
              "\n",
              "    .dataframe tbody tr th {\n",
              "        vertical-align: top;\n",
              "    }\n",
              "\n",
              "    .dataframe thead th {\n",
              "        text-align: right;\n",
              "    }\n",
              "</style>\n",
              "<table border=\"1\" class=\"dataframe\">\n",
              "  <thead>\n",
              "    <tr style=\"text-align: right;\">\n",
              "      <th></th>\n",
              "      <th>id</th>\n",
              "      <th>review</th>\n",
              "      <th>sentiment</th>\n",
              "    </tr>\n",
              "  </thead>\n",
              "  <tbody>\n",
              "    <tr>\n",
              "      <th>1902</th>\n",
              "      <td>1167_4</td>\n",
              "      <td>I really tried to like this movie but in the e...</td>\n",
              "      <td>0</td>\n",
              "    </tr>\n",
              "    <tr>\n",
              "      <th>1816</th>\n",
              "      <td>8727_2</td>\n",
              "      <td>Let me start out by saying I can enjoy just ab...</td>\n",
              "      <td>0</td>\n",
              "    </tr>\n",
              "    <tr>\n",
              "      <th>2473</th>\n",
              "      <td>4665_10</td>\n",
              "      <td>I first saw this film about 11 years ago when ...</td>\n",
              "      <td>1</td>\n",
              "    </tr>\n",
              "    <tr>\n",
              "      <th>1439</th>\n",
              "      <td>3287_1</td>\n",
              "      <td>If this movie should be renamed, it should be ...</td>\n",
              "      <td>0</td>\n",
              "    </tr>\n",
              "    <tr>\n",
              "      <th>1793</th>\n",
              "      <td>10439_8</td>\n",
              "      <td>When I saw this movie in the theater when it c...</td>\n",
              "      <td>1</td>\n",
              "    </tr>\n",
              "    <tr>\n",
              "      <th>1806</th>\n",
              "      <td>3747_2</td>\n",
              "      <td>I love all his work but this looks like nothin...</td>\n",
              "      <td>0</td>\n",
              "    </tr>\n",
              "    <tr>\n",
              "      <th>2454</th>\n",
              "      <td>7065_2</td>\n",
              "      <td>OK well i found this movie in my dads old pile...</td>\n",
              "      <td>0</td>\n",
              "    </tr>\n",
              "    <tr>\n",
              "      <th>2210</th>\n",
              "      <td>3949_8</td>\n",
              "      <td>Like many people on this site, I saw this movi...</td>\n",
              "      <td>1</td>\n",
              "    </tr>\n",
              "    <tr>\n",
              "      <th>1275</th>\n",
              "      <td>2525_2</td>\n",
              "      <td>This movie was, as Homer Simpson would have pu...</td>\n",
              "      <td>0</td>\n",
              "    </tr>\n",
              "    <tr>\n",
              "      <th>628</th>\n",
              "      <td>4089_1</td>\n",
              "      <td>Warning: This review contains a spoiler.&lt;br /&gt;...</td>\n",
              "      <td>0</td>\n",
              "    </tr>\n",
              "  </tbody>\n",
              "</table>\n",
              "</div>"
            ],
            "text/plain": [
              "           id                                             review  sentiment\n",
              "1902   1167_4  I really tried to like this movie but in the e...          0\n",
              "1816   8727_2  Let me start out by saying I can enjoy just ab...          0\n",
              "2473  4665_10  I first saw this film about 11 years ago when ...          1\n",
              "1439   3287_1  If this movie should be renamed, it should be ...          0\n",
              "1793  10439_8  When I saw this movie in the theater when it c...          1\n",
              "1806   3747_2  I love all his work but this looks like nothin...          0\n",
              "2454   7065_2  OK well i found this movie in my dads old pile...          0\n",
              "2210   3949_8  Like many people on this site, I saw this movi...          1\n",
              "1275   2525_2  This movie was, as Homer Simpson would have pu...          0\n",
              "628    4089_1  Warning: This review contains a spoiler.<br />...          0"
            ]
          },
          "metadata": {
            "tags": []
          },
          "execution_count": 198
        }
      ]
    },
    {
      "cell_type": "code",
      "metadata": {
        "id": "sCRASyNC-2Da",
        "colab_type": "code",
        "colab": {}
      },
      "source": [
        "import pickle\n",
        "import os\n",
        "\n",
        "pickle.dump(clf2, open(os.path.join('NLP_movie_review_90.pkl'), 'wb'))"
      ],
      "execution_count": 0,
      "outputs": []
    },
    {
      "cell_type": "markdown",
      "metadata": {
        "id": "SP1hrmWkRwSA",
        "colab_type": "text"
      },
      "source": [
        "\n",
        "\n",
        "---\n",
        "\n"
      ]
    },
    {
      "cell_type": "markdown",
      "metadata": {
        "id": "NWPUW94PRwKH",
        "colab_type": "text"
      },
      "source": [
        "\n",
        "\n",
        "---\n",
        "\n"
      ]
    }
  ]
}